{
 "cells": [
  {
   "cell_type": "markdown",
   "metadata": {},
   "source": [
    "The boot code is represented as a text file with one instruction per line of text. Each instruction consists of an operation (acc, jmp, or nop) and an argument (a signed number like +4 or -20).\n",
    "\n",
    "- acc increases or decreases a single global value called the accumulator by the value given in the argument. For example, acc +7 would increase the accumulator by 7. The accumulator starts at 0. After an acc instruction, the instruction immediately below it is executed next.\n",
    "- jmp jumps to a new instruction relative to itself. The next instruction to execute is found using the argument as an offset from the jmp instruction; for example, jmp +2 would skip the next instruction, jmp +1 would continue to the instruction immediately below it, and jmp -20 would cause the instruction 20 lines above to be executed next.\n",
    "- nop stands for No OPeration - it does nothing. The instruction immediately below it is executed next."
   ]
  },
  {
   "cell_type": "code",
   "execution_count": 1,
   "metadata": {},
   "outputs": [],
   "source": [
    "import numpy as np"
   ]
  },
  {
   "cell_type": "code",
   "execution_count": 2,
   "metadata": {},
   "outputs": [],
   "source": [
    "with open('./data/day8.txt', 'r') as f:\n",
    "    raw = [line.replace('\\n', '') for line in f]\n",
    "raw = [line.split(' ') for line in raw]"
   ]
  },
  {
   "cell_type": "code",
   "execution_count": 4,
   "metadata": {},
   "outputs": [
    {
     "name": "stdout",
     "output_type": "stream",
     "text": [
      "break\n"
     ]
    }
   ],
   "source": [
    "i = 0\n",
    "accumulator = 0\n",
    "\n",
    "dat = raw\n",
    "jmps = []\n",
    "nops = []\n",
    "\n",
    "while i in range(0, len(dat)):   \n",
    "    command = dat[i][0]\n",
    "    arg = int(dat[i][1])\n",
    "\n",
    "    if command == 'break':\n",
    "        print(\"break\")\n",
    "        break\n",
    "\n",
    "    dat[i][0] = 'break'\n",
    "\n",
    "    if command == 'acc':\n",
    "        accumulator += arg\n",
    "        i += 1\n",
    "    elif command == 'jmp':\n",
    "        jmps.append(i)\n",
    "        i += arg\n",
    "    elif command == 'nop':\n",
    "        nops.append(i)\n",
    "        i += 1\n"
   ]
  },
  {
   "cell_type": "code",
   "execution_count": 5,
   "metadata": {},
   "outputs": [
    {
     "data": {
      "text/plain": [
       "[81,\n",
       " 244,\n",
       " 613,\n",
       " 531,\n",
       " 481,\n",
       " 482,\n",
       " 365,\n",
       " 291,\n",
       " 293,\n",
       " 341,\n",
       " 319,\n",
       " 320,\n",
       " 252,\n",
       " 235,\n",
       " 359,\n",
       " 503,\n",
       " 181,\n",
       " 124,\n",
       " 175,\n",
       " 219,\n",
       " 67,\n",
       " 627,\n",
       " 559,\n",
       " 131,\n",
       " 325]"
      ]
     },
     "execution_count": 5,
     "metadata": {},
     "output_type": "execute_result"
    }
   ],
   "source": [
    "nops"
   ]
  },
  {
   "cell_type": "code",
   "execution_count": 6,
   "metadata": {},
   "outputs": [],
   "source": [
    "def test_break(dat):\n",
    "    accumulator = 0\n",
    "    i = 0\n",
    "\n",
    "    while i in range(0, len(dat)):   \n",
    "        command = dat[i][0]\n",
    "        arg = int(dat[i][1])\n",
    "\n",
    "        if command == 'break':\n",
    "            return \"break\"\n",
    "\n",
    "        dat[i][0] = 'break'\n",
    "\n",
    "        if command == 'acc':\n",
    "            accumulator += arg\n",
    "            i += 1\n",
    "        elif command == 'jmp':\n",
    "            i += arg\n",
    "        elif command == 'nop':\n",
    "            i += 1\n",
    "\n",
    "    return accumulator"
   ]
  },
  {
   "cell_type": "code",
   "execution_count": 7,
   "metadata": {},
   "outputs": [
    {
     "name": "stdout",
     "output_type": "stream",
     "text": [
      "break\n",
      "break\n",
      "break\n",
      "break\n",
      "break\n",
      "break\n",
      "break\n",
      "break\n",
      "break\n",
      "break\n",
      "break\n",
      "break\n",
      "break\n",
      "break\n",
      "break\n",
      "break\n",
      "break\n",
      "break\n",
      "break\n",
      "break\n",
      "break\n",
      "break\n",
      "break\n",
      "break\n",
      "break\n",
      "break\n",
      "break\n",
      "break\n",
      "break\n",
      "break\n",
      "break\n",
      "break\n",
      "break\n",
      "break\n",
      "break\n",
      "break\n",
      "break\n",
      "break\n",
      "break\n",
      "break\n",
      "break\n",
      "break\n",
      "break\n",
      "break\n",
      "break\n",
      "break\n",
      "break\n",
      "1375\n",
      "226 1375\n"
     ]
    }
   ],
   "source": [
    "for i in jmps:\n",
    "    with open('./data/day8.txt', 'r') as f:\n",
    "        raw = [line.replace('\\n', '') for line in f]\n",
    "    raw = [line.split(' ') for line in raw]\n",
    "    raw[i][0] = 'nop'\n",
    "    result = test_break(raw)\n",
    "    print(result)\n",
    "    if result != \"break\":\n",
    "        print(i, result)\n",
    "        break"
   ]
  },
  {
   "cell_type": "code",
   "execution_count": null,
   "metadata": {},
   "outputs": [],
   "source": [
    "test_break(dat.copy())"
   ]
  },
  {
   "cell_type": "code",
   "execution_count": null,
   "metadata": {},
   "outputs": [],
   "source": []
  }
 ],
 "metadata": {
  "kernelspec": {
   "display_name": "Python 3",
   "language": "python",
   "name": "python3"
  },
  "language_info": {
   "codemirror_mode": {
    "name": "ipython",
    "version": 3
   },
   "file_extension": ".py",
   "mimetype": "text/x-python",
   "name": "python",
   "nbconvert_exporter": "python",
   "pygments_lexer": "ipython3",
   "version": "3.8.3"
  },
  "varInspector": {
   "cols": {
    "lenName": 16,
    "lenType": 16,
    "lenVar": 40
   },
   "kernels_config": {
    "python": {
     "delete_cmd_postfix": "",
     "delete_cmd_prefix": "del ",
     "library": "var_list.py",
     "varRefreshCmd": "print(var_dic_list())"
    },
    "r": {
     "delete_cmd_postfix": ") ",
     "delete_cmd_prefix": "rm(",
     "library": "var_list.r",
     "varRefreshCmd": "cat(var_dic_list()) "
    }
   },
   "types_to_exclude": [
    "module",
    "function",
    "builtin_function_or_method",
    "instance",
    "_Feature"
   ],
   "window_display": false
  }
 },
 "nbformat": 4,
 "nbformat_minor": 4
}
