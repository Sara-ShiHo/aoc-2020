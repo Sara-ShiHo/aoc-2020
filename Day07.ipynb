{
 "cells": [
  {
   "cell_type": "markdown",
   "metadata": {},
   "source": [
    "You have a shiny gold bag. If you wanted to carry it in at least one other bag, how many different bag colors would be valid for the outermost bag? (In other words: how many colors can, eventually, contain at least one shiny gold bag?)\n",
    "\n",
    "In the above rules, the following options would be available to you:\n",
    "\n",
    "- A bright white bag, which can hold your shiny gold bag directly.\n",
    "- A muted yellow bag, which can hold your shiny gold bag directly, plus some other bags.\n",
    "- A dark orange bag, which can hold bright white and muted yellow bags, either of which could then hold your shiny gold bag.\n",
    "- A light red bag, which can hold bright white and muted yellow bags, either of which could then hold your shiny gold bag.\n",
    "\n",
    "\n",
    "So, in this example, the number of bag colors that can eventually contain at least one shiny gold bag is 4.\n",
    "\n"
   ]
  },
  {
   "cell_type": "code",
   "execution_count": 2,
   "metadata": {},
   "outputs": [],
   "source": [
    "with open('./data/day7.txt', 'r') as f:\n",
    "    dat = [line.replace('\\n', '') for line in f]"
   ]
  },
  {
   "cell_type": "markdown",
   "metadata": {},
   "source": [
    "## Part I"
   ]
  },
  {
   "cell_type": "code",
   "execution_count": 3,
   "metadata": {},
   "outputs": [],
   "source": [
    "def convert_line(line):\n",
    "    \n",
    "    line = line.replace(' bags', '')\n",
    "    line = line.replace(' bag', '')\n",
    "    line = line.replace('.', '')\n",
    "    \n",
    "    outer, inner = line.split(' contain ')\n",
    "    inner = inner.split(', ')\n",
    "    inner = [desc.split(' ', 1) for desc in inner]\n",
    "    \n",
    "    inner_keys = [desc[1] for desc in inner]\n",
    "    \n",
    "    if 'other' in inner_keys:\n",
    "        inner_keys = []\n",
    "\n",
    "    return outer, inner_keys"
   ]
  },
  {
   "cell_type": "code",
   "execution_count": 4,
   "metadata": {},
   "outputs": [],
   "source": [
    "# convert raw data into dictionary containing list of colors \n",
    "datdict = {}\n",
    "for line in dat:\n",
    "    line = convert_line(line)\n",
    "    datdict[line[0]] = line[1]"
   ]
  },
  {
   "cell_type": "code",
   "execution_count": 5,
   "metadata": {},
   "outputs": [],
   "source": [
    "def has_gold(colors):\n",
    "    \"\"\"\n",
    "    recursively check all the colors and their colors\n",
    "    \"\"\"\n",
    "    if len(colors) == 0:\n",
    "        return 0\n",
    "    else:\n",
    "        color = colors[0]\n",
    "        if color == 'shiny gold':\n",
    "            return 1\n",
    "        else:\n",
    "            # add inner colors to queue\n",
    "            return has_gold(datdict[color] + colors[1:])"
   ]
  },
  {
   "cell_type": "code",
   "execution_count": 6,
   "metadata": {},
   "outputs": [
    {
     "data": {
      "text/plain": [
       "211"
      ]
     },
     "execution_count": 6,
     "metadata": {},
     "output_type": "execute_result"
    }
   ],
   "source": [
    "results = [has_gold(colors) for colors in datdict.values()]\n",
    "sum(results)"
   ]
  },
  {
   "cell_type": "markdown",
   "metadata": {},
   "source": [
    "## Part II"
   ]
  },
  {
   "cell_type": "code",
   "execution_count": 196,
   "metadata": {},
   "outputs": [],
   "source": [
    "def convert_line(line):\n",
    "    \n",
    "    line = line.replace(' bags', '')\n",
    "    line = line.replace(' bag', '')\n",
    "    line = line.replace('.', '')\n",
    "    \n",
    "    outer, inner = line.split(' contain ')\n",
    "    inner = inner.split(', ')\n",
    "    inner = [desc.split(' ', 1) for desc in inner]\n",
    "        \n",
    "    d = [(key, int(value)) for value, key in inner if key != 'other']\n",
    "\n",
    "    return outer, d"
   ]
  },
  {
   "cell_type": "code",
   "execution_count": 327,
   "metadata": {},
   "outputs": [],
   "source": [
    "def count_bags(colors):\n",
    "    \n",
    "    if len(colors) == 0:\n",
    "        return 0\n",
    "    else:\n",
    "        color_pair = colors[0]\n",
    "        color = color_pair[0]\n",
    "        bags = color_pair[1]\n",
    "        print(bags, color, datdict[color])\n",
    "        \n",
    "        # sum the number of bags, the bags inside of the bags, and the rest of the uncounted bags\n",
    "        return bags + bags * count_bags(datdict[color]) + count_bags(colors[1:])"
   ]
  },
  {
   "cell_type": "code",
   "execution_count": 330,
   "metadata": {},
   "outputs": [
    {
     "name": "stdout",
     "output_type": "stream",
     "text": [
      "1 dull white [('bright indigo', 5), ('posh tomato', 3), ('clear lime', 2), ('drab lime', 5)]\n",
      "5 bright indigo [('posh tomato', 2), ('vibrant indigo', 5), ('posh chartreuse', 2), ('wavy silver', 1)]\n",
      "2 posh tomato []\n",
      "5 vibrant indigo [('pale yellow', 3), ('vibrant bronze', 4), ('bright cyan', 4)]\n",
      "3 pale yellow []\n",
      "4 vibrant bronze [('dim aqua', 3), ('light aqua', 3), ('wavy silver', 3), ('posh tomato', 2)]\n",
      "3 dim aqua []\n",
      "3 light aqua [('faded blue', 2), ('drab violet', 4), ('dim aqua', 5)]\n",
      "2 faded blue []\n",
      "4 drab violet []\n",
      "5 dim aqua []\n",
      "3 wavy silver []\n",
      "2 posh tomato []\n",
      "4 bright cyan []\n",
      "2 posh chartreuse [('wavy silver', 5), ('light aqua', 4)]\n",
      "5 wavy silver []\n",
      "4 light aqua [('faded blue', 2), ('drab violet', 4), ('dim aqua', 5)]\n",
      "2 faded blue []\n",
      "4 drab violet []\n",
      "5 dim aqua []\n",
      "1 wavy silver []\n",
      "3 posh tomato []\n",
      "2 clear lime [('vibrant blue', 4), ('wavy silver', 2), ('pale yellow', 5)]\n",
      "4 vibrant blue []\n",
      "2 wavy silver []\n",
      "5 pale yellow []\n",
      "5 drab lime [('mirrored green', 1), ('clear lime', 5), ('posh yellow', 3), ('pale yellow', 5)]\n",
      "1 mirrored green [('dim aqua', 4)]\n",
      "4 dim aqua []\n",
      "5 clear lime [('vibrant blue', 4), ('wavy silver', 2), ('pale yellow', 5)]\n",
      "4 vibrant blue []\n",
      "2 wavy silver []\n",
      "5 pale yellow []\n",
      "3 posh yellow [('vibrant bronze', 5), ('faded lime', 5), ('posh chartreuse', 4), ('bright cyan', 2)]\n",
      "5 vibrant bronze [('dim aqua', 3), ('light aqua', 3), ('wavy silver', 3), ('posh tomato', 2)]\n",
      "3 dim aqua []\n",
      "3 light aqua [('faded blue', 2), ('drab violet', 4), ('dim aqua', 5)]\n",
      "2 faded blue []\n",
      "4 drab violet []\n",
      "5 dim aqua []\n",
      "3 wavy silver []\n",
      "2 posh tomato []\n",
      "5 faded lime []\n",
      "4 posh chartreuse [('wavy silver', 5), ('light aqua', 4)]\n",
      "5 wavy silver []\n",
      "4 light aqua [('faded blue', 2), ('drab violet', 4), ('dim aqua', 5)]\n",
      "2 faded blue []\n",
      "4 drab violet []\n",
      "5 dim aqua []\n",
      "2 bright cyan []\n",
      "5 pale yellow []\n",
      "4 dark orange [('dim aqua', 4), ('drab violet', 4)]\n",
      "4 dim aqua []\n",
      "4 drab violet []\n"
     ]
    },
    {
     "data": {
      "text/plain": [
       "12414"
      ]
     },
     "execution_count": 330,
     "metadata": {},
     "output_type": "execute_result"
    }
   ],
   "source": [
    "# convert raw data into dictionary containing list of color-number pairs\n",
    "datdict = {}\n",
    "for line in dat:\n",
    "    line = convert_line(line)\n",
    "    datdict[line[0]] = line[1]\n",
    "datdict\n",
    "\n",
    "count_bags(datdict['shiny gold'])"
   ]
  },
  {
   "cell_type": "code",
   "execution_count": null,
   "metadata": {},
   "outputs": [],
   "source": []
  }
 ],
 "metadata": {
  "kernelspec": {
   "display_name": "Python 3",
   "language": "python",
   "name": "python3"
  },
  "language_info": {
   "codemirror_mode": {
    "name": "ipython",
    "version": 3
   },
   "file_extension": ".py",
   "mimetype": "text/x-python",
   "name": "python",
   "nbconvert_exporter": "python",
   "pygments_lexer": "ipython3",
   "version": "3.8.3"
  },
  "varInspector": {
   "cols": {
    "lenName": 16,
    "lenType": 16,
    "lenVar": 40
   },
   "kernels_config": {
    "python": {
     "delete_cmd_postfix": "",
     "delete_cmd_prefix": "del ",
     "library": "var_list.py",
     "varRefreshCmd": "print(var_dic_list())"
    },
    "r": {
     "delete_cmd_postfix": ") ",
     "delete_cmd_prefix": "rm(",
     "library": "var_list.r",
     "varRefreshCmd": "cat(var_dic_list()) "
    }
   },
   "types_to_exclude": [
    "module",
    "function",
    "builtin_function_or_method",
    "instance",
    "_Feature"
   ],
   "window_display": false
  }
 },
 "nbformat": 4,
 "nbformat_minor": 4
}
