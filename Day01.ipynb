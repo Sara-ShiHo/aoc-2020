{
 "cells": [
  {
   "cell_type": "code",
   "execution_count": 44,
   "metadata": {},
   "outputs": [],
   "source": [
    "import numpy"
   ]
  },
  {
   "cell_type": "code",
   "execution_count": 45,
   "metadata": {},
   "outputs": [],
   "source": [
    "dat = [int(x) for x in open(\"data/adventday1.txt\").readlines()]"
   ]
  },
  {
   "cell_type": "markdown",
   "metadata": {},
   "source": [
    "# 1. find two numbers that sum to 2020"
   ]
  },
  {
   "cell_type": "markdown",
   "metadata": {},
   "source": [
    "method 1 (fastest)"
   ]
  },
  {
   "cell_type": "code",
   "execution_count": 46,
   "metadata": {},
   "outputs": [],
   "source": [
    "# the two numbers that sum will either be both odd or both even\n",
    "even = [x for x in dat if x % 2 == 0]\n",
    "odd = [x for x in dat if x % 2 != 0]"
   ]
  },
  {
   "cell_type": "code",
   "execution_count": 47,
   "metadata": {},
   "outputs": [],
   "source": [
    "# note: this will not work if (2020 / 2) is in the even set\n",
    "# this also assumes that there are only two numbers that sum to 2020"
   ]
  },
  {
   "cell_type": "code",
   "execution_count": 48,
   "metadata": {},
   "outputs": [
    {
     "name": "stdout",
     "output_type": "stream",
     "text": [
      "numbers:  {816, 1204}\n",
      "product:  982464\n"
     ]
    }
   ],
   "source": [
    "def two_diff(dat):\n",
    "    potentials = 2020 - np.array(dat)\n",
    "    results = set(potentials) & set(dat) # are any of the potentials in the even set?\n",
    "    \n",
    "    if len(results) == 2:\n",
    "        print(\"numbers: \", results)\n",
    "        print(\"product: \", numpy.prod(list(results)))\n",
    "    \n",
    "two_diff(even)\n",
    "two_diff(odd)"
   ]
  },
  {
   "cell_type": "markdown",
   "metadata": {},
   "source": [
    "method 2"
   ]
  },
  {
   "cell_type": "code",
   "execution_count": 49,
   "metadata": {},
   "outputs": [
    {
     "name": "stdout",
     "output_type": "stream",
     "text": [
      "numbers:  816 1204\n",
      "product:  982464\n"
     ]
    }
   ],
   "source": [
    "potentials = dat.copy()\n",
    "while len(potentials) > 0:\n",
    "    num = potentials.pop()\n",
    "    sums = [num + x for x in potentials]\n",
    "\n",
    "    if 2020 in sums:\n",
    "        print(\"numbers: \", num, potentials[sums.index(2020)])\n",
    "        print(\"product: \", num * potentials[sums.index(2020)])\n",
    "        break"
   ]
  },
  {
   "cell_type": "markdown",
   "metadata": {},
   "source": [
    "# 2. find three numbers that sum to 2020"
   ]
  },
  {
   "cell_type": "code",
   "execution_count": 51,
   "metadata": {},
   "outputs": [
    {
     "name": "stdout",
     "output_type": "stream",
     "text": [
      "numbers:  1269 {490, 261}\n",
      "product:  162292410\n"
     ]
    }
   ],
   "source": [
    "copy = dat.copy()\n",
    "while len(copy) > 0:\n",
    "    num1 = copy.pop()\n",
    "    num2_list = [x for x in copy if (num1 + x <= 2020)]\n",
    "    potentials = 2020 - np.array(num2_list) - num1\n",
    "    \n",
    "    results = set(potentials) & set(dat) # are any of the potentials in the even set?\n",
    "    \n",
    "    if len(results) == 2:\n",
    "        print(\"numbers: \", num1, results)\n",
    "        print(\"product: \", numpy.prod(list(results)) * num1)\n",
    "        break"
   ]
  },
  {
   "cell_type": "code",
   "execution_count": null,
   "metadata": {},
   "outputs": [],
   "source": []
  }
 ],
 "metadata": {
  "kernelspec": {
   "display_name": "Python 3",
   "language": "python",
   "name": "python3"
  },
  "language_info": {
   "codemirror_mode": {
    "name": "ipython",
    "version": 3
   },
   "file_extension": ".py",
   "mimetype": "text/x-python",
   "name": "python",
   "nbconvert_exporter": "python",
   "pygments_lexer": "ipython3",
   "version": "3.8.3"
  },
  "varInspector": {
   "cols": {
    "lenName": 16,
    "lenType": 16,
    "lenVar": 40
   },
   "kernels_config": {
    "python": {
     "delete_cmd_postfix": "",
     "delete_cmd_prefix": "del ",
     "library": "var_list.py",
     "varRefreshCmd": "print(var_dic_list())"
    },
    "r": {
     "delete_cmd_postfix": ") ",
     "delete_cmd_prefix": "rm(",
     "library": "var_list.r",
     "varRefreshCmd": "cat(var_dic_list()) "
    }
   },
   "types_to_exclude": [
    "module",
    "function",
    "builtin_function_or_method",
    "instance",
    "_Feature"
   ],
   "window_display": false
  }
 },
 "nbformat": 4,
 "nbformat_minor": 4
}
