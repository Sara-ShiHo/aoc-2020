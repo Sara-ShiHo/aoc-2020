{
 "cells": [
  {
   "cell_type": "markdown",
   "metadata": {},
   "source": [
    "## part I"
   ]
  },
  {
   "cell_type": "markdown",
   "metadata": {},
   "source": [
    "Instead of zones or groups, this airline uses binary space partitioning to seat people. A seat might be specified like FBFBBFFRLR, where F means \"front\", B means \"back\", L means \"left\", and R means \"right\"."
   ]
  },
  {
   "cell_type": "code",
   "execution_count": 1,
   "metadata": {},
   "outputs": [],
   "source": [
    "def find_row(ticket):\n",
    "    low_row = 0\n",
    "    up_row = 127\n",
    "    for ch in ticket[0:6]:\n",
    "        if ch == \"F\":\n",
    "            up_row = up_row - round((up_row - low_row) / 2)\n",
    "        elif ch == \"B\":\n",
    "            low_row = low_row + round((up_row - low_row) / 2)\n",
    "\n",
    "    if ticket[6] == \"F\":\n",
    "        return(min(low_row, up_row))\n",
    "    \n",
    "    elif ticket[6] == \"B\":\n",
    "        \n",
    "        return(max(low_row, up_row))"
   ]
  },
  {
   "cell_type": "code",
   "execution_count": 2,
   "metadata": {},
   "outputs": [],
   "source": [
    "def find_col(ticket):\n",
    "    low_row = 0\n",
    "    up_row = 7\n",
    "    for ch in ticket[7:9]:\n",
    "        if ch == \"L\":\n",
    "            up_row = up_row - round((up_row - low_row) / 2)\n",
    "        elif ch == \"R\":\n",
    "            low_row = low_row + round((up_row - low_row) / 2)\n",
    "\n",
    "    if ticket[9] == \"L\":\n",
    "        return(min(low_row, up_row))\n",
    "    \n",
    "    elif ticket[9] == \"R\":\n",
    "        return(max(low_row, up_row))"
   ]
  },
  {
   "cell_type": "code",
   "execution_count": 3,
   "metadata": {},
   "outputs": [],
   "source": [
    "def find_seat(ticket):\n",
    "    row = find_row(ticket)\n",
    "    col = find_col(ticket)\n",
    "    return row * 8 + col"
   ]
  },
  {
   "cell_type": "code",
   "execution_count": 4,
   "metadata": {},
   "outputs": [],
   "source": [
    "for ticket in ['BFFFBBFRRR', 'FFFBBBFRRR', 'BBFFBBFRLL']:\n",
    "    find_seat(ticket)"
   ]
  },
  {
   "cell_type": "markdown",
   "metadata": {},
   "source": [
    "Every seat also has a unique seat ID: multiply the row by 8, then add the column. In this example, the seat has ID 44 * 8 + 5 = 357.\n",
    "\n",
    "Here are some other boarding passes:\n",
    "\n",
    "- BFFFBBFRRR: row 70, column 7, seat ID 567.\n",
    "- FFFBBBFRRR: row 14, column 7, seat ID 119.\n",
    "- BBFFBBFRLL: row 102, column 4, seat ID 820.\n",
    "As a sanity check, look through your list of boarding passes. What is the highest seat ID on a boarding pass?"
   ]
  },
  {
   "cell_type": "code",
   "execution_count": 5,
   "metadata": {},
   "outputs": [],
   "source": [
    "with open('./data/day5.txt', 'r') as f:\n",
    "    dat = [line.replace('\\n', '') for line in f]"
   ]
  },
  {
   "cell_type": "code",
   "execution_count": 6,
   "metadata": {},
   "outputs": [],
   "source": [
    "seats = [find_seat(ticket) for ticket in dat]"
   ]
  },
  {
   "cell_type": "code",
   "execution_count": 7,
   "metadata": {},
   "outputs": [
    {
     "data": {
      "text/plain": [
       "896"
      ]
     },
     "execution_count": 7,
     "metadata": {},
     "output_type": "execute_result"
    }
   ],
   "source": [
    "max(seats)"
   ]
  },
  {
   "cell_type": "markdown",
   "metadata": {},
   "source": [
    "## part II"
   ]
  },
  {
   "cell_type": "code",
   "execution_count": 8,
   "metadata": {},
   "outputs": [],
   "source": [
    "from matplotlib import pyplot as plt\n",
    "import numpy as np\n",
    "import pandas as pd"
   ]
  },
  {
   "cell_type": "code",
   "execution_count": 9,
   "metadata": {},
   "outputs": [],
   "source": [
    "d =matrix = [[np.nan] * 8 for i in range(128)]"
   ]
  },
  {
   "cell_type": "code",
   "execution_count": 10,
   "metadata": {
    "scrolled": true
   },
   "outputs": [],
   "source": [
    "seats = [(find_row(ticket), find_col(ticket)) for ticket in dat]\n",
    "for r, c in seats:\n",
    "    d[r][c] = 1"
   ]
  },
  {
   "cell_type": "code",
   "execution_count": 11,
   "metadata": {},
   "outputs": [
    {
     "data": {
      "text/plain": [
       "array([[  0,   0],\n",
       "       [  0,   1],\n",
       "       [  0,   2],\n",
       "       [  0,   3],\n",
       "       [  0,   4],\n",
       "       [  0,   5],\n",
       "       [  0,   6],\n",
       "       [  0,   7],\n",
       "       [  1,   0],\n",
       "       [  1,   1],\n",
       "       [  1,   2],\n",
       "       [  1,   3],\n",
       "       [  1,   4],\n",
       "       [  1,   5],\n",
       "       [  1,   6],\n",
       "       [  1,   7],\n",
       "       [  2,   0],\n",
       "       [  2,   1],\n",
       "       [  2,   2],\n",
       "       [  2,   3],\n",
       "       [  2,   4],\n",
       "       [  2,   5],\n",
       "       [  2,   6],\n",
       "       [  2,   7],\n",
       "       [  3,   0],\n",
       "       [  3,   1],\n",
       "       [  3,   2],\n",
       "       [  3,   3],\n",
       "       [  3,   4],\n",
       "       [  3,   5],\n",
       "       [  3,   6],\n",
       "       [  3,   7],\n",
       "       [  4,   0],\n",
       "       [  4,   1],\n",
       "       [  4,   2],\n",
       "       [  4,   3],\n",
       "       [  4,   4],\n",
       "       [  4,   5],\n",
       "       [  4,   6],\n",
       "       [  4,   7],\n",
       "       [  5,   0],\n",
       "       [  5,   1],\n",
       "       [  5,   2],\n",
       "       [  5,   3],\n",
       "       [  5,   4],\n",
       "       [  5,   5],\n",
       "       [  5,   6],\n",
       "       [  5,   7],\n",
       "       [  6,   0],\n",
       "       [  6,   1],\n",
       "       [  6,   2],\n",
       "       [  6,   3],\n",
       "       [  6,   4],\n",
       "       [ 82,   3],\n",
       "       [112,   1],\n",
       "       [112,   2],\n",
       "       [112,   3],\n",
       "       [112,   4],\n",
       "       [112,   5],\n",
       "       [112,   6],\n",
       "       [112,   7],\n",
       "       [113,   0],\n",
       "       [113,   1],\n",
       "       [113,   2],\n",
       "       [113,   3],\n",
       "       [113,   4],\n",
       "       [113,   5],\n",
       "       [113,   6],\n",
       "       [113,   7],\n",
       "       [114,   0],\n",
       "       [114,   1],\n",
       "       [114,   2],\n",
       "       [114,   3],\n",
       "       [114,   4],\n",
       "       [114,   5],\n",
       "       [114,   6],\n",
       "       [114,   7],\n",
       "       [115,   0],\n",
       "       [115,   1],\n",
       "       [115,   2],\n",
       "       [115,   3],\n",
       "       [115,   4],\n",
       "       [115,   5],\n",
       "       [115,   6],\n",
       "       [115,   7],\n",
       "       [116,   0],\n",
       "       [116,   1],\n",
       "       [116,   2],\n",
       "       [116,   3],\n",
       "       [116,   4],\n",
       "       [116,   5],\n",
       "       [116,   6],\n",
       "       [116,   7],\n",
       "       [117,   0],\n",
       "       [117,   1],\n",
       "       [117,   2],\n",
       "       [117,   3],\n",
       "       [117,   4],\n",
       "       [117,   5],\n",
       "       [117,   6],\n",
       "       [117,   7],\n",
       "       [118,   0],\n",
       "       [118,   1],\n",
       "       [118,   2],\n",
       "       [118,   3],\n",
       "       [118,   4],\n",
       "       [118,   5],\n",
       "       [118,   6],\n",
       "       [118,   7],\n",
       "       [119,   0],\n",
       "       [119,   1],\n",
       "       [119,   2],\n",
       "       [119,   3],\n",
       "       [119,   4],\n",
       "       [119,   5],\n",
       "       [119,   6],\n",
       "       [119,   7],\n",
       "       [120,   0],\n",
       "       [120,   1],\n",
       "       [120,   2],\n",
       "       [120,   3],\n",
       "       [120,   4],\n",
       "       [120,   5],\n",
       "       [120,   6],\n",
       "       [120,   7],\n",
       "       [121,   0],\n",
       "       [121,   1],\n",
       "       [121,   2],\n",
       "       [121,   3],\n",
       "       [121,   4],\n",
       "       [121,   5],\n",
       "       [121,   6],\n",
       "       [121,   7],\n",
       "       [122,   0],\n",
       "       [122,   1],\n",
       "       [122,   2],\n",
       "       [122,   3],\n",
       "       [122,   4],\n",
       "       [122,   5],\n",
       "       [122,   6],\n",
       "       [122,   7],\n",
       "       [123,   0],\n",
       "       [123,   1],\n",
       "       [123,   2],\n",
       "       [123,   3],\n",
       "       [123,   4],\n",
       "       [123,   5],\n",
       "       [123,   6],\n",
       "       [123,   7],\n",
       "       [124,   0],\n",
       "       [124,   1],\n",
       "       [124,   2],\n",
       "       [124,   3],\n",
       "       [124,   4],\n",
       "       [124,   5],\n",
       "       [124,   6],\n",
       "       [124,   7],\n",
       "       [125,   0],\n",
       "       [125,   1],\n",
       "       [125,   2],\n",
       "       [125,   3],\n",
       "       [125,   4],\n",
       "       [125,   5],\n",
       "       [125,   6],\n",
       "       [125,   7],\n",
       "       [126,   0],\n",
       "       [126,   1],\n",
       "       [126,   2],\n",
       "       [126,   3],\n",
       "       [126,   4],\n",
       "       [126,   5],\n",
       "       [126,   6],\n",
       "       [126,   7],\n",
       "       [127,   0],\n",
       "       [127,   1],\n",
       "       [127,   2],\n",
       "       [127,   3],\n",
       "       [127,   4],\n",
       "       [127,   5],\n",
       "       [127,   6],\n",
       "       [127,   7]])"
      ]
     },
     "execution_count": 11,
     "metadata": {},
     "output_type": "execute_result"
    }
   ],
   "source": [
    "np.argwhere(np.isnan(d))"
   ]
  },
  {
   "cell_type": "code",
   "execution_count": 12,
   "metadata": {},
   "outputs": [
    {
     "data": {
      "text/plain": [
       "659"
      ]
     },
     "execution_count": 12,
     "metadata": {},
     "output_type": "execute_result"
    }
   ],
   "source": [
    "82 * 8 + 3"
   ]
  },
  {
   "cell_type": "code",
   "execution_count": 13,
   "metadata": {},
   "outputs": [
    {
     "data": {
      "text/plain": [
       "<matplotlib.image.AxesImage at 0x7ff4b22d16a0>"
      ]
     },
     "execution_count": 13,
     "metadata": {},
     "output_type": "execute_result"
    },
    {
     "data": {
      "text/plain": [
       "<Figure size 7200x1440 with 0 Axes>"
      ]
     },
     "metadata": {},
     "output_type": "display_data"
    },
    {
     "data": {
      "image/png": "[encoded data removed]",
      "text/plain": [
       "<Figure size 288x1152 with 1 Axes>"
      ]
     },
     "metadata": {
      "needs_background": "light"
     },
     "output_type": "display_data"
    }
   ],
   "source": [
    "plt.figure(figsize=(100,20))\n",
    "plt.matshow(d)"
   ]
  },
  {
   "cell_type": "code",
   "execution_count": null,
   "metadata": {},
   "outputs": [],
   "source": []
  },
  {
   "cell_type": "code",
   "execution_count": null,
   "metadata": {},
   "outputs": [],
   "source": []
  },
  {
   "cell_type": "code",
   "execution_count": null,
   "metadata": {},
   "outputs": [],
   "source": []
  }
 ],
 "metadata": {
  "kernelspec": {
   "display_name": "Python 3",
   "language": "python",
   "name": "python3"
  },
  "language_info": {
   "codemirror_mode": {
    "name": "ipython",
    "version": 3
   },
   "file_extension": ".py",
   "mimetype": "text/x-python",
   "name": "python",
   "nbconvert_exporter": "python",
   "pygments_lexer": "ipython3",
   "version": "3.8.3"
  },
  "varInspector": {
   "cols": {
    "lenName": 16,
    "lenType": 16,
    "lenVar": 40
   },
   "kernels_config": {
    "python": {
     "delete_cmd_postfix": "",
     "delete_cmd_prefix": "del ",
     "library": "var_list.py",
     "varRefreshCmd": "print(var_dic_list())"
    },
    "r": {
     "delete_cmd_postfix": ") ",
     "delete_cmd_prefix": "rm(",
     "library": "var_list.r",
     "varRefreshCmd": "cat(var_dic_list()) "
    }
   },
   "types_to_exclude": [
    "module",
    "function",
    "builtin_function_or_method",
    "instance",
    "_Feature"
   ],
   "window_display": false
  }
 },
 "nbformat": 4,
 "nbformat_minor": 4
}
