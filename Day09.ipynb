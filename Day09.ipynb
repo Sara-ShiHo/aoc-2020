{
 "cells": [
  {
   "cell_type": "code",
   "execution_count": 20,
   "metadata": {},
   "outputs": [],
   "source": [
    "import numpy as np"
   ]
  },
  {
   "cell_type": "markdown",
   "metadata": {},
   "source": [
    "## Part I"
   ]
  },
  {
   "cell_type": "code",
   "execution_count": 41,
   "metadata": {},
   "outputs": [],
   "source": [
    "with open('./data/day9.txt', 'r') as f:\n",
    "    raw = [int(line) for line in f]"
   ]
  },
  {
   "cell_type": "code",
   "execution_count": 35,
   "metadata": {},
   "outputs": [],
   "source": [
    "def check(num, l):\n",
    "    for other in l:\n",
    "        if (num - other) in l:\n",
    "            if (num - other) != other:\n",
    "                return True\n",
    "    return num"
   ]
  },
  {
   "cell_type": "code",
   "execution_count": 62,
   "metadata": {},
   "outputs": [
    {
     "data": {
      "text/plain": [
       "1038347917"
      ]
     },
     "execution_count": 62,
     "metadata": {},
     "output_type": "execute_result"
    }
   ],
   "source": [
    "for i in range(25, len(raw)):    \n",
    "    preamble = raw[i - 25: i]\n",
    "    result = check(raw[i], preamble)\n",
    "    if result != True:\n",
    "        goal = result\n",
    "        break\n",
    "goal"
   ]
  },
  {
   "cell_type": "markdown",
   "metadata": {},
   "source": [
    "## Part II"
   ]
  },
  {
   "cell_type": "code",
   "execution_count": 60,
   "metadata": {},
   "outputs": [
    {
     "name": "stdout",
     "output_type": "stream",
     "text": [
      "reached\n"
     ]
    },
    {
     "data": {
      "text/plain": [
       "[44615102,\n",
       " 43725476,\n",
       " 44648839,\n",
       " 45029251,\n",
       " 47640942,\n",
       " 56365291,\n",
       " 79304138,\n",
       " 62256657,\n",
       " 46882839,\n",
       " 82571714,\n",
       " 49053440,\n",
       " 62979028,\n",
       " 68834924,\n",
       " 57938100,\n",
       " 93668542,\n",
       " 81648351,\n",
       " 71185283]"
      ]
     },
     "execution_count": 60,
     "metadata": {},
     "output_type": "execute_result"
    }
   ],
   "source": [
    "cont = []\n",
    "i = 0\n",
    "while i < len(raw):\n",
    "    estimate = sum(cont)\n",
    "    \n",
    "    if estimate == goal:\n",
    "        print(\"reached\")\n",
    "        break\n",
    "    \n",
    "    elif estimate < goal:\n",
    "        i += 1\n",
    "        cont.append(raw[i])\n",
    "        \n",
    "    elif estimate > goal:\n",
    "        while estimate > goal:\n",
    "            cont.pop(0)\n",
    "            estimate = sum(cont)\n",
    "        \n",
    "cont"
   ]
  },
  {
   "cell_type": "code",
   "execution_count": 57,
   "metadata": {},
   "outputs": [
    {
     "data": {
      "text/plain": [
       "137394018"
      ]
     },
     "execution_count": 57,
     "metadata": {},
     "output_type": "execute_result"
    }
   ],
   "source": [
    "min(cont) + max(cont)"
   ]
  },
  {
   "cell_type": "code",
   "execution_count": null,
   "metadata": {},
   "outputs": [],
   "source": []
  }
 ],
 "metadata": {
  "kernelspec": {
   "display_name": "Python 3",
   "language": "python",
   "name": "python3"
  },
  "language_info": {
   "codemirror_mode": {
    "name": "ipython",
    "version": 3
   },
   "file_extension": ".py",
   "mimetype": "text/x-python",
   "name": "python",
   "nbconvert_exporter": "python",
   "pygments_lexer": "ipython3",
   "version": "3.8.3"
  },
  "varInspector": {
   "cols": {
    "lenName": 16,
    "lenType": 16,
    "lenVar": 40
   },
   "kernels_config": {
    "python": {
     "delete_cmd_postfix": "",
     "delete_cmd_prefix": "del ",
     "library": "var_list.py",
     "varRefreshCmd": "print(var_dic_list())"
    },
    "r": {
     "delete_cmd_postfix": ") ",
     "delete_cmd_prefix": "rm(",
     "library": "var_list.r",
     "varRefreshCmd": "cat(var_dic_list()) "
    }
   },
   "types_to_exclude": [
    "module",
    "function",
    "builtin_function_or_method",
    "instance",
    "_Feature"
   ],
   "window_display": false
  }
 },
 "nbformat": 4,
 "nbformat_minor": 4
}
