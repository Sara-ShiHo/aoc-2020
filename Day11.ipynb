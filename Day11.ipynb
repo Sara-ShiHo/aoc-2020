{
 "cells": [
  {
   "cell_type": "markdown",
   "metadata": {},
   "source": [
    "All decisions are based on the number of occupied seats adjacent to a given seat (one of the eight positions immediately up, down, left, right, or diagonal from the seat). The following rules are applied to every seat simultaneously:\n",
    "\n",
    "- If a seat is empty (L) and there are no occupied seats adjacent to it, the seat becomes occupied.\n",
    "- If a seat is occupied (#) and four or more seats adjacent to it are also occupied, the seat becomes empty.\n",
    "- Otherwise, the seat's state does not change.\n"
   ]
  },
  {
   "cell_type": "code",
   "execution_count": 45,
   "metadata": {},
   "outputs": [],
   "source": [
    "import numpy as np\n",
    "from itertools import product\n"
   ]
  },
  {
   "cell_type": "code",
   "execution_count": 117,
   "metadata": {},
   "outputs": [],
   "source": [
    "test = ['L.LL.LL.LL',\n",
    "'LLLLLLL.LL',\n",
    "'L.L.L..L..',\n",
    "'LLLL.LL.LL',\n",
    "'L.LL.LL.LL',\n",
    "'L.LLLLL.LL',\n",
    "'..L.L.....',\n",
    "'LLLLLLLLLL',\n",
    "'L.LLLLLL.L',\n",
    "'L.LLLLL.LL']"
   ]
  },
  {
   "cell_type": "code",
   "execution_count": 118,
   "metadata": {},
   "outputs": [
    {
     "data": {
      "text/plain": [
       "[['L', '.', 'L', 'L', '.', 'L', 'L', '.', 'L', 'L'],\n",
       " ['L', 'L', 'L', 'L', 'L', 'L', 'L', '.', 'L', 'L'],\n",
       " ['L', '.', 'L', '.', 'L', '.', '.', 'L', '.', '.'],\n",
       " ['L', 'L', 'L', 'L', '.', 'L', 'L', '.', 'L', 'L'],\n",
       " ['L', '.', 'L', 'L', '.', 'L', 'L', '.', 'L', 'L'],\n",
       " ['L', '.', 'L', 'L', 'L', 'L', 'L', '.', 'L', 'L'],\n",
       " ['.', '.', 'L', '.', 'L', '.', '.', '.', '.', '.'],\n",
       " ['L', 'L', 'L', 'L', 'L', 'L', 'L', 'L', 'L', 'L'],\n",
       " ['L', '.', 'L', 'L', 'L', 'L', 'L', 'L', '.', 'L'],\n",
       " ['L', '.', 'L', 'L', 'L', 'L', 'L', '.', 'L', 'L']]"
      ]
     },
     "execution_count": 118,
     "metadata": {},
     "output_type": "execute_result"
    }
   ],
   "source": [
    "test = [list(line) for line in test]\n",
    "fillcopy = test[:]\n",
    "fillcopy"
   ]
  },
  {
   "cell_type": "code",
   "execution_count": 119,
   "metadata": {},
   "outputs": [],
   "source": [
    "def fill(row, col):\n",
    "    if col == 0:\n",
    "        coldim = 1\n",
    "    else:\n",
    "        coldim = col\n",
    "    if row == 0:\n",
    "        rowdim = 1\n",
    "    else:\n",
    "        rowdim = row\n",
    "    \n",
    "    adj = [line[coldim - 1: coldim + 2] for line in test[rowdim - 1:rowdim + 2]]\n",
    "    adj = [char for items in adj for char in items]\n",
    "    print(adj)\n",
    "    if ('#' in adj) | (len(adj) == 0):\n",
    "        pass\n",
    "    else:\n",
    "        fillcopy[row][col] = '#' # becomes occupied"
   ]
  },
  {
   "cell_type": "code",
   "execution_count": 120,
   "metadata": {},
   "outputs": [],
   "source": [
    "nrows = len(test)\n",
    "ncols = len(test[0])"
   ]
  },
  {
   "cell_type": "code",
   "execution_count": 121,
   "metadata": {
    "scrolled": true
   },
   "outputs": [
    {
     "name": "stdout",
     "output_type": "stream",
     "text": [
      "['L', '.', 'L', 'L', 'L', 'L', 'L', '.', 'L']\n",
      "['#', '.', 'L', 'L', 'L', 'L', 'L', '.', 'L']\n",
      "['.', 'L', 'L', 'L', 'L', 'L', '.', 'L', '.']\n",
      "['#', 'L', '.', 'L', 'L', 'L', 'L', '.', 'L']\n",
      "['L', '.', 'L', 'L', 'L', 'L', '.', 'L', '.']\n",
      "['#', 'L', 'L', 'L', 'L', 'L', 'L', '.', '.']\n",
      "['L', 'L', '.', 'L', 'L', '.', '.', '.', 'L']\n",
      "['#', '.', 'L', 'L', '.', 'L', '.', 'L', '.']\n",
      "['.', 'L', 'L', '.', 'L', 'L', 'L', '.', '.']\n",
      "['#', 'L', 'L', 'L', '.', '.']\n",
      "['#', '.', '#', 'L', 'L', 'L', 'L', '.', 'L']\n",
      "['#', '.', '#', 'L', 'L', 'L', 'L', '.', 'L']\n",
      "['.', '#', 'L', 'L', 'L', 'L', '.', 'L', '.']\n",
      "['#', 'L', '#', 'L', 'L', 'L', 'L', '.', 'L']\n",
      "['L', '#', 'L', 'L', 'L', 'L', '.', 'L', '.']\n",
      "['#', 'L', '#', 'L', 'L', 'L', 'L', '.', '.']\n",
      "['L', '#', '.', 'L', 'L', '.', '.', '.', 'L']\n",
      "['#', '.', '#', 'L', '.', 'L', '.', 'L', '.']\n",
      "['.', '#', 'L', '.', 'L', 'L', 'L', '.', '.']\n",
      "['#', 'L', 'L', 'L', '.', '.']\n",
      "['L', 'L', 'L', 'L', '.', 'L', 'L', 'L', 'L']\n",
      "['L', 'L', 'L', '#', '.', 'L', 'L', 'L', 'L']\n",
      "['L', 'L', 'L', '.', 'L', '.', 'L', 'L', 'L']\n",
      "['L', 'L', 'L', '#', '.', 'L', 'L', 'L', '.']\n",
      "['L', 'L', 'L', '.', 'L', '.', 'L', '.', 'L']\n",
      "['L', 'L', 'L', '#', '.', '.', '.', 'L', 'L']\n",
      "['L', 'L', '.', '.', '.', 'L', 'L', 'L', '.']\n",
      "['L', '.', 'L', '#', 'L', '.', 'L', '.', 'L']\n",
      "['.', 'L', 'L', 'L', '.', '.', '.', 'L', 'L']\n",
      "['L', 'L', '#', '.', 'L', 'L']\n",
      "['#', '.', '#', 'L', 'L', 'L', 'L', '.', 'L']\n",
      "['#', '.', '#', 'L', 'L', 'L', 'L', '.', 'L']\n",
      "['.', '#', '.', 'L', 'L', 'L', '.', 'L', 'L']\n",
      "['#', '.', '#', 'L', 'L', '.', 'L', 'L', '.']\n",
      "['.', '#', '.', 'L', '.', 'L', 'L', '.', 'L']\n",
      "['#', '.', '#', '.', 'L', 'L', '.', 'L', 'L']\n",
      "['.', '#', 'L', 'L', 'L', '.', 'L', 'L', '.']\n",
      "['#', 'L', '#', 'L', '.', 'L', 'L', '.', 'L']\n",
      "['L', '#', '.', '.', 'L', 'L', '.', 'L', 'L']\n",
      "['#', '.', 'L', 'L', 'L', 'L']\n",
      "['L', 'L', 'L', 'L', '.', 'L', 'L', '.', 'L']\n",
      "['L', 'L', 'L', '#', '.', 'L', 'L', '.', 'L']\n",
      "['L', 'L', 'L', '.', 'L', 'L', '.', 'L', 'L']\n",
      "['L', 'L', '.', '#', 'L', '.', 'L', 'L', 'L']\n",
      "['L', '.', 'L', 'L', '.', 'L', 'L', 'L', 'L']\n",
      "['.', 'L', 'L', '#', 'L', 'L', 'L', 'L', 'L']\n",
      "['L', 'L', '.', 'L', 'L', '.', 'L', 'L', '.']\n",
      "['L', '.', 'L', '#', '.', 'L', 'L', '.', 'L']\n",
      "['.', 'L', 'L', '.', 'L', 'L', '.', 'L', 'L']\n",
      "['L', 'L', '#', 'L', 'L', 'L']\n",
      "['#', '.', '#', 'L', '.', 'L', '.', '.', 'L']\n",
      "['#', '.', '#', 'L', '.', 'L', '.', '.', 'L']\n",
      "['.', '#', 'L', '.', 'L', 'L', '.', 'L', '.']\n",
      "['#', 'L', '#', 'L', 'L', 'L', 'L', '.', 'L']\n",
      "['L', '#', 'L', 'L', 'L', 'L', '.', 'L', '.']\n",
      "['#', 'L', '#', 'L', 'L', 'L', 'L', '.', '.']\n",
      "['L', '#', '.', 'L', 'L', '.', '.', '.', '.']\n",
      "['#', '.', '#', 'L', '.', 'L', '.', '.', '.']\n",
      "['.', '#', 'L', '.', 'L', 'L', '.', '.', '.']\n",
      "['#', 'L', 'L', 'L', '.', '.']\n",
      "['L', '.', 'L', '.', '.', 'L', 'L', 'L', 'L']\n",
      "['L', '.', 'L', '#', '.', 'L', 'L', 'L', 'L']\n",
      "['.', 'L', 'L', '.', 'L', '.', 'L', 'L', 'L']\n",
      "['L', 'L', 'L', '#', '.', 'L', 'L', 'L', 'L']\n",
      "['L', 'L', 'L', '.', 'L', '.', 'L', 'L', 'L']\n",
      "['L', 'L', 'L', '#', '.', '.', 'L', 'L', 'L']\n",
      "['L', 'L', '.', '.', '.', '.', 'L', 'L', 'L']\n",
      "['L', '.', 'L', '#', '.', '.', 'L', 'L', 'L']\n",
      "['.', 'L', 'L', '.', '.', '.', 'L', 'L', 'L']\n",
      "['L', 'L', '#', '.', 'L', 'L']\n",
      "['#', '.', '#', 'L', 'L', 'L', 'L', '.', 'L']\n",
      "['#', '.', '#', 'L', 'L', 'L', 'L', '.', 'L']\n",
      "['.', '#', '.', 'L', 'L', 'L', '.', 'L', 'L']\n",
      "['#', '.', '#', 'L', 'L', 'L', 'L', 'L', 'L']\n",
      "['.', '#', '.', 'L', 'L', 'L', 'L', 'L', 'L']\n",
      "['#', '.', '#', 'L', 'L', 'L', 'L', 'L', 'L']\n",
      "['.', '#', '.', 'L', 'L', 'L', 'L', 'L', 'L']\n",
      "['#', '.', '#', 'L', 'L', 'L', 'L', 'L', '.']\n",
      "['.', '#', '.', 'L', 'L', 'L', 'L', '.', 'L']\n",
      "['#', '.', 'L', 'L', '.', 'L']\n",
      "['L', 'L', 'L', 'L', '.', 'L', 'L', '.', 'L']\n",
      "['L', 'L', 'L', '#', '.', 'L', 'L', '.', 'L']\n",
      "['L', 'L', 'L', '.', 'L', 'L', '.', 'L', 'L']\n",
      "['L', 'L', 'L', '#', 'L', 'L', 'L', 'L', 'L']\n",
      "['L', 'L', 'L', 'L', 'L', 'L', 'L', 'L', 'L']\n",
      "['L', 'L', 'L', '#', 'L', 'L', 'L', 'L', 'L']\n",
      "['L', 'L', 'L', 'L', 'L', 'L', 'L', 'L', '.']\n",
      "['L', 'L', 'L', '#', 'L', '.', 'L', '.', 'L']\n",
      "['L', 'L', 'L', 'L', '.', 'L', '.', 'L', 'L']\n",
      "['L', 'L', '#', 'L', 'L', 'L']\n",
      "['#', '.', '#', 'L', '.', 'L']\n",
      "['#', '.', '#', 'L', '.', 'L']\n",
      "['.', '#', 'L', '.', 'L', 'L']\n",
      "['#', 'L', '#', 'L', 'L', 'L']\n",
      "['L', '#', 'L', 'L', 'L', 'L']\n",
      "['#', 'L', '#', 'L', 'L', 'L']\n",
      "['L', '#', 'L', 'L', 'L', '.']\n",
      "['#', 'L', '#', 'L', '.', 'L']\n",
      "['L', '#', 'L', '.', 'L', 'L']\n",
      "['#', 'L', 'L', 'L']\n"
     ]
    }
   ],
   "source": [
    "for i in range(0, nrows):\n",
    "    for j in range(0, ncols):\n",
    "        fill(i, j)"
   ]
  },
  {
   "cell_type": "code",
   "execution_count": 122,
   "metadata": {},
   "outputs": [
    {
     "data": {
      "text/plain": [
       "[['#', '.', '#', 'L', '#', 'L', '#', '.', '#', 'L'],\n",
       " ['L', 'L', 'L', 'L', 'L', 'L', 'L', '.', 'L', 'L'],\n",
       " ['#', '.', '#', '.', '#', '.', '#', 'L', '#', '.'],\n",
       " ['L', 'L', 'L', 'L', '.', 'L', 'L', '.', 'L', 'L'],\n",
       " ['#', '.', '#', 'L', '#', 'L', '#', '.', '#', 'L'],\n",
       " ['L', '.', 'L', 'L', 'L', 'L', 'L', '.', 'L', 'L'],\n",
       " ['#', '.', '#', '.', '#', '.', '#', '.', '#', '.'],\n",
       " ['L', 'L', 'L', 'L', 'L', 'L', 'L', 'L', 'L', 'L'],\n",
       " ['#', '.', '#', 'L', '#', 'L', '#', 'L', '#', 'L'],\n",
       " ['L', '.', 'L', 'L', 'L', 'L', 'L', '.', 'L', 'L']]"
      ]
     },
     "execution_count": 122,
     "metadata": {},
     "output_type": "execute_result"
    }
   ],
   "source": [
    "fillcopy"
   ]
  },
  {
   "cell_type": "code",
   "execution_count": null,
   "metadata": {},
   "outputs": [],
   "source": []
  },
  {
   "cell_type": "code",
   "execution_count": null,
   "metadata": {},
   "outputs": [],
   "source": []
  }
 ],
 "metadata": {
  "kernelspec": {
   "display_name": "Python 3",
   "language": "python",
   "name": "python3"
  },
  "language_info": {
   "codemirror_mode": {
    "name": "ipython",
    "version": 3
   },
   "file_extension": ".py",
   "mimetype": "text/x-python",
   "name": "python",
   "nbconvert_exporter": "python",
   "pygments_lexer": "ipython3",
   "version": "3.8.3"
  },
  "varInspector": {
   "cols": {
    "lenName": 16,
    "lenType": 16,
    "lenVar": 40
   },
   "kernels_config": {
    "python": {
     "delete_cmd_postfix": "",
     "delete_cmd_prefix": "del ",
     "library": "var_list.py",
     "varRefreshCmd": "print(var_dic_list())"
    },
    "r": {
     "delete_cmd_postfix": ") ",
     "delete_cmd_prefix": "rm(",
     "library": "var_list.r",
     "varRefreshCmd": "cat(var_dic_list()) "
    }
   },
   "types_to_exclude": [
    "module",
    "function",
    "builtin_function_or_method",
    "instance",
    "_Feature"
   ],
   "window_display": false
  }
 },
 "nbformat": 4,
 "nbformat_minor": 4
}
