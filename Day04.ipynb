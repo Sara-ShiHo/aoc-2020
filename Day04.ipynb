{
 "cells": [
  {
   "cell_type": "markdown",
   "metadata": {},
   "source": [
    "- byr (Birth Year)\n",
    "- iyr (Issue Year)\n",
    "- eyr (Expiration Year)\n",
    "- hgt (Height)\n",
    "- hcl (Hair Color)\n",
    "- ecl (Eye Color)\n",
    "- pid (Passport ID)\n",
    "- cid (Country ID)\n",
    "\n",
    "ok if missing cid"
   ]
  },
  {
   "cell_type": "code",
   "execution_count": 58,
   "metadata": {},
   "outputs": [],
   "source": [
    "with open('./data/adventday4.txt', 'r') as f:\n",
    "    dat = [line.replace('\\n', '') for line in f]\n",
    "dat.append('')"
   ]
  },
  {
   "cell_type": "code",
   "execution_count": 59,
   "metadata": {},
   "outputs": [
    {
     "data": {
      "text/plain": [
       "222"
      ]
     },
     "execution_count": 59,
     "metadata": {},
     "output_type": "execute_result"
    }
   ],
   "source": [
    "contents_s = ''\n",
    "count = 0\n",
    "for line in dat:\n",
    "    if line == '':\n",
    "        contents = contents_s.split(' ')\n",
    "    \n",
    "        contents_d = [info for info in contents if (info != '') & ('cid' not in info)]\n",
    "        if len(contents_d) == 7:\n",
    "            count += 1\n",
    "        contents_s = ''\n",
    "        \n",
    "    contents_s = contents_s + line + ' '\n",
    "    \n",
    "count"
   ]
  },
  {
   "cell_type": "markdown",
   "metadata": {},
   "source": [
    "- byr (Birth Year) - four digits; at least 1920 and at most 2002.\n",
    "- iyr (Issue Year) - four digits; at least 2010 and at most 2020.\n",
    "- eyr (Expiration Year) - four digits; at least 2020 and at most 2030.\n",
    "- hgt (Height) - a number followed by either cm or in:\n",
    "- If cm, the number must be at least 150 and at most 193.\n",
    "- If in, the number must be at least 59 and at most 76.\n",
    "- hcl (Hair Color) - a # followed by exactly six characters 0-9 or a-f.\n",
    "- ecl (Eye Color) - exactly one of: amb blu brn gry grn hzl oth.\n",
    "- pid (Passport ID) - a nine-digit number, including leading zeroes.\n",
    "- cid (Country ID) - ignored, missing or not."
   ]
  },
  {
   "cell_type": "code",
   "execution_count": 60,
   "metadata": {},
   "outputs": [],
   "source": [
    "def OO_bounds(value, lower, upper):\n",
    "    if (value < lower) | (value > upper):\n",
    "        return False\n",
    "    return True"
   ]
  },
  {
   "cell_type": "code",
   "execution_count": 61,
   "metadata": {},
   "outputs": [
    {
     "data": {
      "text/plain": [
       "False"
      ]
     },
     "execution_count": 61,
     "metadata": {},
     "output_type": "execute_result"
    }
   ],
   "source": [
    "OO_bounds(1967, 2020, 2030)"
   ]
  },
  {
   "cell_type": "code",
   "execution_count": 64,
   "metadata": {},
   "outputs": [],
   "source": [
    "def valid_dict(d):\n",
    "    \n",
    "    # years -----------------------\n",
    "    \n",
    "    byr = int(d['byr'])\n",
    "    iyr = int(d['iyr'])\n",
    "    eyr = int(d['eyr'])\n",
    "    \n",
    "    if not OO_bounds(byr, 1920, 2002):\n",
    "        return False\n",
    "    if not OO_bounds(iyr, 2010, 2020):\n",
    "        return False\n",
    "    if not OO_bounds(eyr, 2020, 2030):\n",
    "        return False\n",
    "    \n",
    "    # physical -----------------------\n",
    "\n",
    "    try: \n",
    "        hgt = int(d['hgt'][:-2])\n",
    "        hgt_unit = d['hgt'][-2:]\n",
    "\n",
    "    except ValueError:\n",
    "        return False\n",
    "    \n",
    "    if hgt_unit == 'cm':\n",
    "        if not OO_bounds(hgt, 150, 193):\n",
    "            return False\n",
    "    elif hgt_unit == 'in':\n",
    "        if not OO_bounds(hgt, 59, 76):\n",
    "            return False\n",
    "    else: \n",
    "        return False\n",
    "    \n",
    "    hcl = d['hcl']\n",
    "    ecl = d['ecl']\n",
    "    \n",
    "    nums = ['0', '1', '2', '3', '4', '5', '6', '7', '8', '9']\n",
    "    letters = ['a', 'b', 'c', 'd', 'e', 'f']\n",
    "    \n",
    "    if hcl[0] != '#':\n",
    "        return False\n",
    "    elif len(hcl) != 7:\n",
    "        return False\n",
    "    else:\n",
    "        for c in hcl[1:]:\n",
    "            if (c not in nums) & (c not in letters):\n",
    "                return False\n",
    "    \n",
    "    if ecl not in ['amb', 'blu', 'brn', 'gry', 'grn', 'hzl', 'oth']:\n",
    "        return False\n",
    "\n",
    "    # ID -----------------------\n",
    "    \n",
    "    pid = d['pid']\n",
    "    \n",
    "    if len(pid) != 9:\n",
    "        return False\n",
    "    else:\n",
    "        for c in pid:\n",
    "            if c not in nums:\n",
    "                return False\n",
    "    \n",
    "    print(byr, iyr, eyr, hcl, ecl, pid)\n",
    "    return True"
   ]
  },
  {
   "cell_type": "code",
   "execution_count": 65,
   "metadata": {},
   "outputs": [
    {
     "name": "stdout",
     "output_type": "stream",
     "text": [
      "1932 2017 2024 #efcc98 hzl 284313291\n",
      "1955 2015 2027 #373b34 hzl 807766874\n",
      "1942 2017 2025 #7d3b0c blu 424955675\n",
      "1950 2016 2026 #ceb3a1 amb 440353084\n",
      "1921 2016 2020 #ceb3a1 hzl 348696077\n",
      "1921 2020 2022 #341e13 brn 072379782\n",
      "1954 2012 2026 #623a2f blu 328598886\n",
      "1931 2013 2029 #fffffd blu 488791624\n",
      "1988 2016 2028 #733820 brn 517689823\n",
      "1951 2015 2023 #fffffd brn 739536900\n",
      "1986 2018 2029 #efcc98 brn 880203213\n",
      "1977 2020 2030 #ceb3a1 amb 338237458\n",
      "1936 2011 2026 #efcc98 hzl 163252726\n",
      "1967 2019 2030 #efcc98 gry 078770050\n",
      "1946 2017 2022 #ceb3a1 amb 851379559\n",
      "1956 2017 2023 #6b5442 brn 253685193\n",
      "1929 2020 2026 #866857 amb 882830512\n",
      "1925 2019 2020 #18171d amb 718422803\n",
      "1943 2013 2022 #cfa07d amb 740807220\n",
      "1986 2016 2030 #733820 oth 768188726\n",
      "1996 2015 2022 #341e13 hzl 516401532\n",
      "1967 2014 2029 #34f021 grn 336742028\n",
      "1949 2012 2022 #6b5442 gry 131835020\n",
      "1958 2013 2024 #7d3b0c oth 659772377\n",
      "1930 2017 2023 #c0946f oth 896076106\n",
      "1935 2012 2024 #866857 amb 942509879\n",
      "1921 2012 2026 #a62fea grn 545112664\n",
      "1997 2012 2030 #866857 grn 174997024\n",
      "1936 2017 2026 #888785 hzl 451921339\n",
      "1954 2012 2023 #341e13 amb 129321944\n",
      "1951 2017 2021 #a97842 hzl 596870080\n",
      "1941 2012 2025 #ceb3a1 blu 900043442\n",
      "1967 2014 2029 #ceb3a1 grn 147112660\n",
      "1994 2015 2029 #18171d amb 502975636\n",
      "1980 2017 2020 #6b5442 amb 859849571\n",
      "1989 2010 2020 #cc080c gry 319135853\n",
      "1960 2017 2021 #733820 hzl 791025828\n",
      "1985 2010 2024 #2ce009 blu 633234602\n",
      "1974 2012 2027 #c0946f grn 120684397\n",
      "1981 2014 2026 #733820 hzl 898831724\n",
      "1998 2017 2027 #ceb3a1 brn 274178898\n",
      "1920 2015 2024 #c0946f oth 441517075\n",
      "1929 2017 2023 #888785 grn 591478424\n",
      "1976 2020 2021 #93092e amb 594829025\n",
      "1937 2018 2030 #a97842 oth 282634012\n",
      "1956 2012 2026 #623a2f brn 068178613\n",
      "1921 2011 2023 #888785 brn 010348794\n",
      "1955 2010 2024 #a97842 brn 473791166\n",
      "1945 2011 2028 #6b5442 grn 186196675\n",
      "1957 2012 2030 #733820 blu 994494879\n",
      "1962 2017 2029 #733820 blu 567713232\n",
      "1928 2019 2030 #fffffd amb 390162554\n",
      "1979 2012 2030 #888785 amb 540720799\n",
      "1921 2017 2023 #341e13 oth 204986110\n",
      "1984 2010 2025 #cfa07d amb 799775698\n",
      "1963 2012 2030 #ceb3a1 brn 252396293\n",
      "1994 2012 2028 #a97842 gry 032201787\n",
      "1927 2011 2028 #a97842 hzl 064591809\n",
      "1993 2018 2029 #cfa07d grn 106820988\n",
      "2002 2019 2026 #341e13 grn 629420566\n",
      "1955 2020 2028 #733820 grn 217362007\n",
      "1971 2013 2020 #18171d gry 352009857\n",
      "1928 2011 2023 #fffffd hzl 839955293\n",
      "1932 2010 2028 #6b5442 blu 482827478\n",
      "1933 2020 2022 #866857 brn 003931873\n",
      "1981 2014 2025 #fffffd brn 930857758\n",
      "1934 2013 2026 #cfa07d gry 383281251\n",
      "1960 2014 2030 #b6652a amb 445799347\n",
      "1932 2016 2021 #888785 grn 725299968\n",
      "1962 2013 2026 #ceb3a1 amb 695426469\n",
      "1968 2010 2027 #fffffd grn 697500517\n",
      "1960 2019 2021 #866857 hzl 412920622\n",
      "1956 2018 2025 #888785 grn 698098389\n",
      "1935 2018 2021 #b6652a blu 354892542\n",
      "1934 2018 2025 #a97842 oth 859748861\n",
      "1930 2018 2022 #292092 brn 987163365\n",
      "1932 2014 2021 #cfa07d grn 641867677\n",
      "1984 2013 2028 #fffffd gry 556229206\n",
      "2001 2019 2025 #cdb7f9 hzl 377402126\n",
      "1939 2016 2029 #733820 oth 733456875\n",
      "1928 2013 2022 #7d3b0c blu 883743276\n",
      "1944 2019 2022 #888785 gry 284399238\n",
      "1944 2011 2022 #866857 gry 962700562\n",
      "1927 2017 2024 #341e13 brn 400034647\n",
      "1935 2012 2027 #733820 grn 217121064\n",
      "1967 2018 2030 #a97842 blu 929661915\n",
      "1974 2015 2021 #c0946f grn 671485026\n",
      "1991 2011 2029 #866857 oth 789877199\n",
      "1952 2020 2020 #18171d oth 059579902\n",
      "1994 2017 2030 #18171d oth 264538307\n",
      "1998 2012 2022 #888785 hzl 000080585\n",
      "1983 2012 2024 #b6652a hzl 719620152\n",
      "1987 2010 2025 #733820 hzl 842124616\n",
      "1932 2015 2028 #6b5442 amb 947149686\n",
      "1973 2016 2027 #a97842 oth 741678753\n",
      "1926 2016 2020 #18171d gry 334234443\n",
      "1971 2012 2020 #866857 hzl 673038025\n",
      "1996 2017 2023 #341e13 oth 205596613\n",
      "1963 2015 2021 #866857 oth 422371422\n",
      "1922 2020 2024 #2f22ef gry 006970943\n",
      "1970 2016 2021 #b6652a grn 471529794\n",
      "1932 2015 2024 #602927 brn 729284172\n",
      "1988 2011 2028 #341e13 gry 875885919\n",
      "2001 2020 2029 #866857 brn 668021168\n",
      "1965 2020 2024 #c0946f amb 013487714\n",
      "1999 2010 2025 #866857 oth 115479767\n",
      "1994 2011 2021 #efcc98 grn 590539278\n",
      "1970 2017 2024 #b62e29 brn 495674801\n",
      "1999 2011 2030 #888785 amb 272955042\n",
      "1945 2018 2025 #a97842 brn 814305816\n",
      "1996 2020 2026 #c0946f grn 582584802\n",
      "1925 2014 2027 #888785 brn 250884352\n",
      "1950 2017 2020 #18171d gry 661330507\n",
      "1981 2013 2030 #6b5442 oth 208932950\n",
      "1962 2014 2029 #f183e7 gry 614579850\n",
      "1951 2010 2030 #733820 gry 228644594\n",
      "1937 2017 2024 #b6652a grn 250155574\n",
      "1922 2015 2028 #6b5442 gry 831823039\n",
      "1941 2016 2024 #623a2f amb 351293754\n",
      "1947 2012 2028 #602927 hzl 252010138\n",
      "1928 2018 2028 #a97842 hzl 801192586\n",
      "2002 2016 2024 #623a2f hzl 756347561\n",
      "1973 2015 2025 #623a2f blu 648012871\n",
      "1951 2018 2024 #b6652a grn 077278028\n",
      "1958 2019 2030 #fffffd gry 410770618\n",
      "1926 2012 2024 #fffffd grn 954310029\n",
      "1924 2015 2027 #ceb3a1 oth 091152959\n",
      "1966 2017 2021 #49a793 hzl 717543257\n",
      "1928 2012 2025 #602927 brn 391973520\n",
      "1991 2013 2024 #cfa07d grn 784483994\n",
      "1996 2010 2029 #623a2f gry 572128647\n",
      "1968 2011 2029 #efcc98 gry 233353682\n",
      "1952 2020 2024 #cfa07d hzl 537492791\n",
      "1923 2010 2020 #b6652a oth 904825661\n",
      "1975 2016 2025 #18171d amb 613754206\n",
      "1938 2017 2027 #623a2f amb 287108745\n",
      "1967 2018 2025 #b6a3ce amb 506927066\n",
      "1964 2012 2030 #fb5993 hzl 587635596\n",
      "1935 2018 2025 #efcc98 grn 396444938\n",
      "1973 2014 2022 #18171d oth 105602506\n"
     ]
    },
    {
     "data": {
      "text/plain": [
       "140"
      ]
     },
     "execution_count": 65,
     "metadata": {},
     "output_type": "execute_result"
    }
   ],
   "source": [
    "contents_s = ''\n",
    "count = 0\n",
    "\n",
    "for line in dat:\n",
    "    if line == '':\n",
    "        contents = contents_s.split(' ')\n",
    "        contents_d = dict([info.split(':') for info in contents if (info != '') & ('cid' not in info)])\n",
    "\n",
    "        if len(contents_d) == 7:\n",
    "            if valid_dict(contents_d):\n",
    "                count += 1\n",
    "        \n",
    "        contents_s = ''\n",
    "        \n",
    "    contents_s = contents_s + line + ' '\n",
    "    \n",
    "count"
   ]
  }
 ],
 "metadata": {
  "kernelspec": {
   "display_name": "Python 3",
   "language": "python",
   "name": "python3"
  },
  "language_info": {
   "codemirror_mode": {
    "name": "ipython",
    "version": 3
   },
   "file_extension": ".py",
   "mimetype": "text/x-python",
   "name": "python",
   "nbconvert_exporter": "python",
   "pygments_lexer": "ipython3",
   "version": "3.8.3"
  },
  "varInspector": {
   "cols": {
    "lenName": 16,
    "lenType": 16,
    "lenVar": 40
   },
   "kernels_config": {
    "python": {
     "delete_cmd_postfix": "",
     "delete_cmd_prefix": "del ",
     "library": "var_list.py",
     "varRefreshCmd": "print(var_dic_list())"
    },
    "r": {
     "delete_cmd_postfix": ") ",
     "delete_cmd_prefix": "rm(",
     "library": "var_list.r",
     "varRefreshCmd": "cat(var_dic_list()) "
    }
   },
   "types_to_exclude": [
    "module",
    "function",
    "builtin_function_or_method",
    "instance",
    "_Feature"
   ],
   "window_display": false
  }
 },
 "nbformat": 4,
 "nbformat_minor": 4
}
