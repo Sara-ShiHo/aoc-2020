{
 "cells": [
  {
   "cell_type": "markdown",
   "metadata": {},
   "source": [
    "open squares (.) and trees (#)"
   ]
  },
  {
   "cell_type": "code",
   "execution_count": 1,
   "metadata": {},
   "outputs": [],
   "source": [
    "import numpy as np"
   ]
  },
  {
   "cell_type": "code",
   "execution_count": 2,
   "metadata": {},
   "outputs": [],
   "source": [
    "with open('./data/adventday3.txt', 'r') as f:\n",
    "    dat = [line.replace('\\n', '') for line in f]"
   ]
  },
  {
   "cell_type": "code",
   "execution_count": 3,
   "metadata": {},
   "outputs": [],
   "source": [
    "def find_trees(dat, right, down):\n",
    "    length = len(dat[0])\n",
    "    n_X = 0\n",
    "    right_pos = right\n",
    "    down_pos = down\n",
    "    \n",
    "    while down_pos < len(dat):\n",
    "        line = dat[down_pos]\n",
    "\n",
    "        if line[right_pos] == \"#\":\n",
    "            n_X+=1\n",
    "\n",
    "        right_pos = (right_pos + right) % length\n",
    "        down_pos+=down\n",
    "        \n",
    "    return n_X"
   ]
  },
  {
   "cell_type": "code",
   "execution_count": 4,
   "metadata": {},
   "outputs": [
    {
     "data": {
      "text/plain": [
       "262"
      ]
     },
     "execution_count": 4,
     "metadata": {},
     "output_type": "execute_result"
    }
   ],
   "source": [
    "find_trees(dat.copy(), 3, 1)"
   ]
  },
  {
   "cell_type": "markdown",
   "metadata": {},
   "source": [
    "- Right 1, down 1.\n",
    "- Right 3, down 1. (This is the slope you already checked.)\n",
    "- Right 5, down 1.\n",
    "- Right 7, down 1.\n",
    "- Right 1, down 2."
   ]
  },
  {
   "cell_type": "code",
   "execution_count": 5,
   "metadata": {},
   "outputs": [
    {
     "name": "stdout",
     "output_type": "stream",
     "text": [
      "78\n",
      "262\n",
      "66\n",
      "69\n",
      "29\n"
     ]
    }
   ],
   "source": [
    "print(find_trees(dat.copy(), 1, 1))\n",
    "print(find_trees(dat.copy(), 3, 1))\n",
    "print(find_trees(dat.copy(), 5, 1))\n",
    "print(find_trees(dat.copy(), 7, 1))\n",
    "print(find_trees(dat.copy(), 1, 2))"
   ]
  },
  {
   "cell_type": "code",
   "execution_count": 6,
   "metadata": {
    "scrolled": true
   },
   "outputs": [
    {
     "data": {
      "text/plain": [
       "2698900776"
      ]
     },
     "execution_count": 6,
     "metadata": {},
     "output_type": "execute_result"
    }
   ],
   "source": [
    "78 * 262 * 66 * 69 * 29"
   ]
  },
  {
   "cell_type": "code",
   "execution_count": 7,
   "metadata": {},
   "outputs": [],
   "source": [
    "ex = ['..##.......',\n",
    "'#...#...#..',\n",
    "'.#....#..#.',\n",
    "'..#.#...#.#',\n",
    "'.#...##..#.',\n",
    "'..#.##.....',\n",
    "'.#.#.#....#',\n",
    "'.#........#',\n",
    "'#.##...#...',\n",
    "'#...##....#',\n",
    "'.#..#...#.#']"
   ]
  },
  {
   "cell_type": "code",
   "execution_count": 8,
   "metadata": {},
   "outputs": [
    {
     "name": "stdout",
     "output_type": "stream",
     "text": [
      "2\n",
      "7\n",
      "3\n",
      "4\n",
      "2\n"
     ]
    }
   ],
   "source": [
    "print(find_trees(ex.copy(), 1, 1))\n",
    "print(find_trees(ex.copy(), 3, 1))\n",
    "print(find_trees(ex.copy(), 5, 1))\n",
    "print(find_trees(ex.copy(), 7, 1))\n",
    "print(find_trees(ex.copy(), 1, 2))"
   ]
  },
  {
   "cell_type": "code",
   "execution_count": 9,
   "metadata": {},
   "outputs": [
    {
     "data": {
      "text/plain": [
       "336"
      ]
     },
     "execution_count": 9,
     "metadata": {},
     "output_type": "execute_result"
    }
   ],
   "source": [
    "2 * 7 * 3 * 4 * 2"
   ]
  },
  {
   "cell_type": "code",
   "execution_count": null,
   "metadata": {},
   "outputs": [],
   "source": []
  }
 ],
 "metadata": {
  "kernelspec": {
   "display_name": "Python 3",
   "language": "python",
   "name": "python3"
  },
  "language_info": {
   "codemirror_mode": {
    "name": "ipython",
    "version": 3
   },
   "file_extension": ".py",
   "mimetype": "text/x-python",
   "name": "python",
   "nbconvert_exporter": "python",
   "pygments_lexer": "ipython3",
   "version": "3.8.3"
  },
  "varInspector": {
   "cols": {
    "lenName": 16,
    "lenType": 16,
    "lenVar": 40
   },
   "kernels_config": {
    "python": {
     "delete_cmd_postfix": "",
     "delete_cmd_prefix": "del ",
     "library": "var_list.py",
     "varRefreshCmd": "print(var_dic_list())"
    },
    "r": {
     "delete_cmd_postfix": ") ",
     "delete_cmd_prefix": "rm(",
     "library": "var_list.r",
     "varRefreshCmd": "cat(var_dic_list()) "
    }
   },
   "types_to_exclude": [
    "module",
    "function",
    "builtin_function_or_method",
    "instance",
    "_Feature"
   ],
   "window_display": false
  }
 },
 "nbformat": 4,
 "nbformat_minor": 4
}
