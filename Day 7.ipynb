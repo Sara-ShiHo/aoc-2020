{
 "cells": [
  {
   "cell_type": "markdown",
   "metadata": {},
   "source": [
    "You have a shiny gold bag. If you wanted to carry it in at least one other bag, how many different bag colors would be valid for the outermost bag? (In other words: how many colors can, eventually, contain at least one shiny gold bag?)\n",
    "\n",
    "In the above rules, the following options would be available to you:\n",
    "\n",
    "- A bright white bag, which can hold your shiny gold bag directly.\n",
    "- A muted yellow bag, which can hold your shiny gold bag directly, plus some other bags.\n",
    "- A dark orange bag, which can hold bright white and muted yellow bags, either of which could then hold your shiny gold bag.\n",
    "- A light red bag, which can hold bright white and muted yellow bags, either of which could then hold your shiny gold bag.\n",
    "\n",
    "\n",
    "So, in this example, the number of bag colors that can eventually contain at least one shiny gold bag is 4.\n",
    "\n"
   ]
  },
  {
   "cell_type": "code",
   "execution_count": 2,
   "metadata": {},
   "outputs": [],
   "source": [
    "with open('./data/day7.txt', 'r') as f:\n",
    "    dat = [line.replace('\\n', '') for line in f]"
   ]
  },
  {
   "cell_type": "code",
   "execution_count": 9,
   "metadata": {},
   "outputs": [],
   "source": [
    "def convert_line(line):\n",
    "    \n",
    "    line = line.replace(' bags', '')\n",
    "    line = line.replace(' bag', '')\n",
    "    line = line.replace('.', '')\n",
    "    \n",
    "    outer, inner = line.split(' contain ')\n",
    "    inner = inner.split(', ')\n",
    "    inner = [desc.split(' ', 1) for desc in inner]\n",
    "    \n",
    "    inner_keys = [desc[1] for desc in inner]\n",
    "    \n",
    "    if 'other' in inner_keys:\n",
    "        inner_keys = []\n",
    "\n",
    "    return outer, inner_keys"
   ]
  },
  {
   "cell_type": "code",
   "execution_count": 42,
   "metadata": {},
   "outputs": [],
   "source": [
    "datdict = {}\n",
    "for line in dat:\n",
    "    line = convert_line(line)\n",
    "    datdict[line[0]] = line[1]"
   ]
  },
  {
   "cell_type": "code",
   "execution_count": 43,
   "metadata": {},
   "outputs": [
    {
     "data": {
      "text/plain": [
       "1"
      ]
     },
     "execution_count": 43,
     "metadata": {},
     "output_type": "execute_result"
    }
   ],
   "source": [
    "def has_gold(colors):\n",
    "    \"\"\"\n",
    "    recursively check all the colors and their colors\n",
    "    \"\"\"\n",
    "    if len(colors) == 0:\n",
    "        return 0\n",
    "    else:\n",
    "        color = colors[0]\n",
    "        if color == 'shiny gold':\n",
    "            return 1\n",
    "        else:\n",
    "            # add inner colors to queue\n",
    "            return has_gold(datdict[color] + colors[1:])"
   ]
  },
  {
   "cell_type": "code",
   "execution_count": 41,
   "metadata": {},
   "outputs": [
    {
     "data": {
      "text/plain": [
       "211"
      ]
     },
     "execution_count": 41,
     "metadata": {},
     "output_type": "execute_result"
    }
   ],
   "source": [
    "results = [has_gold(colors) for colors in datdict.values()]\n",
    "sum(results)"
   ]
  },
  {
   "cell_type": "code",
   "execution_count": null,
   "metadata": {},
   "outputs": [],
   "source": []
  }
 ],
 "metadata": {
  "kernelspec": {
   "display_name": "Python 3",
   "language": "python",
   "name": "python3"
  },
  "varInspector": {
   "cols": {
    "lenName": 16,
    "lenType": 16,
    "lenVar": 40
   },
   "kernels_config": {
    "python": {
     "delete_cmd_postfix": "",
     "delete_cmd_prefix": "del ",
     "library": "var_list.py",
     "varRefreshCmd": "print(var_dic_list())"
    },
    "r": {
     "delete_cmd_postfix": ") ",
     "delete_cmd_prefix": "rm(",
     "library": "var_list.r",
     "varRefreshCmd": "cat(var_dic_list()) "
    }
   },
   "types_to_exclude": [
    "module",
    "function",
    "builtin_function_or_method",
    "instance",
    "_Feature"
   ],
   "window_display": false
  }
 },
 "nbformat": 4,
 "nbformat_minor": 4
}
